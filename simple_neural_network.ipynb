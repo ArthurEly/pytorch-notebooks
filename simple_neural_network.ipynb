{
 "cells": [
  {
   "cell_type": "code",
   "execution_count": 1,
   "metadata": {},
   "outputs": [],
   "source": [
    "import torch\n",
    "import torch.nn as nn\n",
    "import torch.nn.functional as F\n"
   ]
  },
  {
   "cell_type": "code",
   "execution_count": 2,
   "metadata": {},
   "outputs": [],
   "source": [
    "#create a model class that inherits nn.Module\n",
    "#dizer qual o tipo de flor iris\n",
    "class Model(nn.Module):\n",
    "    #Input layer (4 features of the flower) \n",
    "    #--> Hidden Layer1\n",
    "    #--> .. \n",
    "    #--> Hidden LayerN \n",
    "    #--> Output\n",
    "    def __init__(self,in_features=4, h1=8, h2=9, out_features=3):\n",
    "        super().__init__() #vai instanciar a classe\n",
    "        #vai da entrada pra h1\n",
    "        self.fc1 = nn.Linear(in_features, h1)\n",
    "        #vai de h1 pra h2\n",
    "        self.fc2 = nn.Linear(h1, h2)\n",
    "        #vai de h2 pra output\n",
    "        self.out = nn.Linear(h2, out_features)\n",
    "\n",
    "    def forward(self, x):\n",
    "        #vai empurrando pra frente\n",
    "        x = F.relu(self.fc1(x))\n",
    "        x = F.relu(self.fc2(x))\n",
    "        x = self.out(x)\n",
    "\n",
    "        return x"
   ]
  },
  {
   "cell_type": "code",
   "execution_count": 3,
   "metadata": {},
   "outputs": [
    {
     "data": {
      "text/plain": [
       "Model(\n",
       "  (fc1): Linear(in_features=4, out_features=8, bias=True)\n",
       "  (fc2): Linear(in_features=8, out_features=9, bias=True)\n",
       "  (out): Linear(in_features=9, out_features=3, bias=True)\n",
       ")"
      ]
     },
     "execution_count": 3,
     "metadata": {},
     "output_type": "execute_result"
    }
   ],
   "source": [
    "#sementezinha azar\n",
    "torch.manual_seed(41)\n",
    "\n",
    "model = Model()\n",
    "\n",
    "model"
   ]
  },
  {
   "cell_type": "code",
   "execution_count": 4,
   "metadata": {},
   "outputs": [
    {
     "name": "stderr",
     "output_type": "stream",
     "text": [
      "C:\\Users\\arthu\\AppData\\Local\\Temp\\ipykernel_636\\2225940201.py:1: DeprecationWarning: \n",
      "Pyarrow will become a required dependency of pandas in the next major release of pandas (pandas 3.0),\n",
      "(to allow more performant data types, such as the Arrow string type, and better interoperability with other libraries)\n",
      "but was not found to be installed on your system.\n",
      "If this would cause problems for you,\n",
      "please provide us feedback at https://github.com/pandas-dev/pandas/issues/54466\n",
      "        \n",
      "  import pandas as pd\n"
     ]
    }
   ],
   "source": [
    "import pandas as pd\n",
    "import matplotlib.pyplot as plt\n",
    "%matplotlib inline"
   ]
  },
  {
   "cell_type": "code",
   "execution_count": 5,
   "metadata": {},
   "outputs": [],
   "source": [
    "url = 'https://gist.githubusercontent.com/curran/a08a1080b88344b0c8a7/raw/0e7a9b0a5d22642a06d3d5b9bcbad9890c8ee534/iris.csv'\n",
    "myDf = pd.read_csv(url)"
   ]
  },
  {
   "cell_type": "code",
   "execution_count": 6,
   "metadata": {},
   "outputs": [
    {
     "name": "stderr",
     "output_type": "stream",
     "text": [
      "C:\\Users\\arthu\\AppData\\Local\\Temp\\ipykernel_636\\2851050775.py:4: FutureWarning: Downcasting behavior in `replace` is deprecated and will be removed in a future version. To retain the old behavior, explicitly call `result.infer_objects(copy=False)`. To opt-in to the future behavior, set `pd.set_option('future.no_silent_downcasting', True)`\n",
      "  myDf['species'] = myDf['species'].replace('virginica',2.0)\n"
     ]
    },
    {
     "data": {
      "text/html": [
       "<div>\n",
       "<style scoped>\n",
       "    .dataframe tbody tr th:only-of-type {\n",
       "        vertical-align: middle;\n",
       "    }\n",
       "\n",
       "    .dataframe tbody tr th {\n",
       "        vertical-align: top;\n",
       "    }\n",
       "\n",
       "    .dataframe thead th {\n",
       "        text-align: right;\n",
       "    }\n",
       "</style>\n",
       "<table border=\"1\" class=\"dataframe\">\n",
       "  <thead>\n",
       "    <tr style=\"text-align: right;\">\n",
       "      <th></th>\n",
       "      <th>sepal_length</th>\n",
       "      <th>sepal_width</th>\n",
       "      <th>petal_length</th>\n",
       "      <th>petal_width</th>\n",
       "      <th>species</th>\n",
       "    </tr>\n",
       "  </thead>\n",
       "  <tbody>\n",
       "    <tr>\n",
       "      <th>0</th>\n",
       "      <td>5.1</td>\n",
       "      <td>3.5</td>\n",
       "      <td>1.4</td>\n",
       "      <td>0.2</td>\n",
       "      <td>0.0</td>\n",
       "    </tr>\n",
       "    <tr>\n",
       "      <th>1</th>\n",
       "      <td>4.9</td>\n",
       "      <td>3.0</td>\n",
       "      <td>1.4</td>\n",
       "      <td>0.2</td>\n",
       "      <td>0.0</td>\n",
       "    </tr>\n",
       "    <tr>\n",
       "      <th>2</th>\n",
       "      <td>4.7</td>\n",
       "      <td>3.2</td>\n",
       "      <td>1.3</td>\n",
       "      <td>0.2</td>\n",
       "      <td>0.0</td>\n",
       "    </tr>\n",
       "    <tr>\n",
       "      <th>3</th>\n",
       "      <td>4.6</td>\n",
       "      <td>3.1</td>\n",
       "      <td>1.5</td>\n",
       "      <td>0.2</td>\n",
       "      <td>0.0</td>\n",
       "    </tr>\n",
       "    <tr>\n",
       "      <th>4</th>\n",
       "      <td>5.0</td>\n",
       "      <td>3.6</td>\n",
       "      <td>1.4</td>\n",
       "      <td>0.2</td>\n",
       "      <td>0.0</td>\n",
       "    </tr>\n",
       "    <tr>\n",
       "      <th>...</th>\n",
       "      <td>...</td>\n",
       "      <td>...</td>\n",
       "      <td>...</td>\n",
       "      <td>...</td>\n",
       "      <td>...</td>\n",
       "    </tr>\n",
       "    <tr>\n",
       "      <th>145</th>\n",
       "      <td>6.7</td>\n",
       "      <td>3.0</td>\n",
       "      <td>5.2</td>\n",
       "      <td>2.3</td>\n",
       "      <td>2.0</td>\n",
       "    </tr>\n",
       "    <tr>\n",
       "      <th>146</th>\n",
       "      <td>6.3</td>\n",
       "      <td>2.5</td>\n",
       "      <td>5.0</td>\n",
       "      <td>1.9</td>\n",
       "      <td>2.0</td>\n",
       "    </tr>\n",
       "    <tr>\n",
       "      <th>147</th>\n",
       "      <td>6.5</td>\n",
       "      <td>3.0</td>\n",
       "      <td>5.2</td>\n",
       "      <td>2.0</td>\n",
       "      <td>2.0</td>\n",
       "    </tr>\n",
       "    <tr>\n",
       "      <th>148</th>\n",
       "      <td>6.2</td>\n",
       "      <td>3.4</td>\n",
       "      <td>5.4</td>\n",
       "      <td>2.3</td>\n",
       "      <td>2.0</td>\n",
       "    </tr>\n",
       "    <tr>\n",
       "      <th>149</th>\n",
       "      <td>5.9</td>\n",
       "      <td>3.0</td>\n",
       "      <td>5.1</td>\n",
       "      <td>1.8</td>\n",
       "      <td>2.0</td>\n",
       "    </tr>\n",
       "  </tbody>\n",
       "</table>\n",
       "<p>150 rows × 5 columns</p>\n",
       "</div>"
      ],
      "text/plain": [
       "     sepal_length  sepal_width  petal_length  petal_width  species\n",
       "0             5.1          3.5           1.4          0.2      0.0\n",
       "1             4.9          3.0           1.4          0.2      0.0\n",
       "2             4.7          3.2           1.3          0.2      0.0\n",
       "3             4.6          3.1           1.5          0.2      0.0\n",
       "4             5.0          3.6           1.4          0.2      0.0\n",
       "..            ...          ...           ...          ...      ...\n",
       "145           6.7          3.0           5.2          2.3      2.0\n",
       "146           6.3          2.5           5.0          1.9      2.0\n",
       "147           6.5          3.0           5.2          2.0      2.0\n",
       "148           6.2          3.4           5.4          2.3      2.0\n",
       "149           5.9          3.0           5.1          1.8      2.0\n",
       "\n",
       "[150 rows x 5 columns]"
      ]
     },
     "execution_count": 6,
     "metadata": {},
     "output_type": "execute_result"
    }
   ],
   "source": [
    "#de strings pra inteiros\n",
    "myDf['species'] = myDf['species'].replace('setosa',0.0)\n",
    "myDf['species'] = myDf['species'].replace('versicolor',1.0)\n",
    "myDf['species'] = myDf['species'].replace('virginica',2.0)\n",
    "myDf"
   ]
  },
  {
   "cell_type": "code",
   "execution_count": 7,
   "metadata": {},
   "outputs": [],
   "source": [
    "#training\n",
    "#pegando os parâmetros\n",
    "x = myDf.drop('species',axis=1)\n",
    "#pegando os resultados\n",
    "y = myDf['species']"
   ]
  },
  {
   "cell_type": "code",
   "execution_count": 8,
   "metadata": {},
   "outputs": [],
   "source": [
    "#convertendo pra np arrays\n",
    "x = x.values\n",
    "y = y.values"
   ]
  },
  {
   "cell_type": "code",
   "execution_count": 9,
   "metadata": {},
   "outputs": [],
   "source": [
    "from sklearn.model_selection import train_test_split\n"
   ]
  },
  {
   "cell_type": "code",
   "execution_count": 10,
   "metadata": {},
   "outputs": [],
   "source": [
    "#train test split\n",
    "#20% do dataset pra teste, 80% pra treino\n",
    "x_train, x_test, y_train, y_test = train_test_split(x,y, test_size=0.2, random_state=41)"
   ]
  },
  {
   "cell_type": "code",
   "execution_count": 11,
   "metadata": {},
   "outputs": [],
   "source": [
    "#convertendo pra tensores\n",
    "x_train = torch.FloatTensor(x_train)\n",
    "x_test = torch.FloatTensor(x_test)\n",
    "y_train = torch.LongTensor(y_train)\n",
    "y_test = torch.LongTensor(y_test)"
   ]
  },
  {
   "cell_type": "code",
   "execution_count": 12,
   "metadata": {},
   "outputs": [],
   "source": [
    "#definir o quanto a saida ta diferente da entrada\n",
    "criterion = nn.CrossEntropyLoss()\n",
    "#escolher um otimizador (?) e uma taxa de aprendizado (até a taxa de erro ficar abaixo disso)\n",
    "optimizer = torch.optim.Adam(model.parameters(),lr=0.01)"
   ]
  },
  {
   "cell_type": "code",
   "execution_count": 13,
   "metadata": {},
   "outputs": [
    {
     "name": "stdout",
     "output_type": "stream",
     "text": [
      "Epoch:0 com perda 1.1251550912857056\n",
      "Epoch:10 com perda 1.0096259117126465\n",
      "Epoch:20 com perda 0.8157405853271484\n",
      "Epoch:30 com perda 0.585706353187561\n",
      "Epoch:40 com perda 0.3999636471271515\n",
      "Epoch:50 com perda 0.26768797636032104\n",
      "Epoch:60 com perda 0.17942361533641815\n",
      "Epoch:70 com perda 0.1215168908238411\n",
      "Epoch:80 com perda 0.0860118418931961\n",
      "Epoch:90 com perda 0.06520850211381912\n"
     ]
    }
   ],
   "source": [
    "#treinar!\n",
    "#epoch? (um rodada até o final da nossa rede)\n",
    "epoch = 100\n",
    "losses = []\n",
    "for i in range(epoch):\n",
    "    #frente!\n",
    "    y_pred = model.forward(x_train) #pega a primeira passagem\n",
    "\n",
    "    #calcular a quantiade de discrepancia que a gente achou\n",
    "    loss = criterion(y_pred, y_train)\n",
    "\n",
    "    #continuar tendo em vista oq a gente ta melhorando\n",
    "    losses.append(loss.detach().numpy())\n",
    "\n",
    "    #printar pra ver como tamo indo\n",
    "    if (i % 10 == 0):\n",
    "        print(f'Epoch:{i} com perda {loss}')\n",
    "    \n",
    "    #backpropagation (eu vou voltando pra acertar minha rede neural)\n",
    "    optimizer.zero_grad()\n",
    "    loss.backward()\n",
    "    optimizer.step()"
   ]
  },
  {
   "cell_type": "code",
   "execution_count": 14,
   "metadata": {},
   "outputs": [
    {
     "data": {
      "text/plain": [
       "Text(0, 0.5, 'epoch')"
      ]
     },
     "execution_count": 14,
     "metadata": {},
     "output_type": "execute_result"
    },
    {
     "data": {
      "image/png": "[encoded data removed]",
      "text/plain": [
       "<Figure size 640x480 with 1 Axes>"
      ]
     },
     "metadata": {},
     "output_type": "display_data"
    }
   ],
   "source": [
    "#graficamente!!!!!!!!!\n",
    "plt.plot(range(epoch),losses)\n",
    "plt.ylabel(\"loss/error\")\n",
    "plt.ylabel(\"epoch\")"
   ]
  },
  {
   "cell_type": "code",
   "execution_count": 16,
   "metadata": {},
   "outputs": [],
   "source": [
    "#começo do teste\n",
    "with torch.no_grad(): #não volta mais pro backpropagation\n",
    "    y_eval = model.forward(x_test) #y_eval são classificações\n",
    "    loss = criterion(y_eval,y_test) #ver a discrepância\n"
   ]
  },
  {
   "cell_type": "code",
   "execution_count": 17,
   "metadata": {},
   "outputs": [
    {
     "data": {
      "text/plain": [
       "tensor(0.1315)"
      ]
     },
     "execution_count": 17,
     "metadata": {},
     "output_type": "execute_result"
    }
   ],
   "source": [
    "loss"
   ]
  },
  {
   "cell_type": "code",
   "execution_count": 22,
   "metadata": {},
   "outputs": [
    {
     "name": "stdout",
     "output_type": "stream",
     "text": [
      "1.) tensor([-5.8760,  4.4628,  6.5124]) \t 2 \t 2\n",
      "2.) tensor([-7.5436,  4.1670,  9.7255]) \t 2 \t 2\n",
      "3.) tensor([-8.4504,  5.1271, 10.1987]) \t 2 \t 2\n",
      "4.) tensor([-4.3398,  5.6267,  2.5608]) \t 1 \t 1\n",
      "5.) tensor([-7.1825,  4.8754,  8.2992]) \t 2 \t 2\n",
      "6.) tensor([-3.3974,  5.3463,  1.2803]) \t 1 \t 1\n",
      "7.) tensor([-5.9231,  4.9822,  5.9997]) \t 2 \t 2\n",
      "8.) tensor([-4.2881,  5.7003,  2.3889]) \t 1 \t 1\n",
      "9.) tensor([-6.5356,  4.9257,  7.1260]) \t 2 \t 2\n",
      "10.) tensor([-8.0509,  4.4129, 10.3286]) \t 2 \t 2\n",
      "11.) tensor([-5.6762,  4.9500,  5.6215]) \t 2 \t 2\n",
      "12.) tensor([ 4.5662, -2.2476, -2.8911]) \t 0 \t 0\n",
      "13.) tensor([ 4.2571, -1.9967, -2.7330]) \t 0 \t 0\n",
      "14.) tensor([-2.1108,  4.0515,  0.5799]) \t 1 \t 1\n",
      "15.) tensor([ 3.4575, -1.2098, -2.3514]) \t 0 \t 0\n",
      "16.) tensor([-5.4724,  5.1165,  5.0934]) \t 2 \t 1\n",
      "17.) tensor([ 4.0557, -1.7949, -2.6492]) \t 0 \t 0\n",
      "18.) tensor([-5.8075,  4.6053,  6.2458]) \t 1 \t 2\n",
      "19.) tensor([ 4.4343, -2.1392, -2.8242]) \t 0 \t 0\n",
      "20.) tensor([ 3.4528, -1.2514, -2.3660]) \t 0 \t 0\n",
      "21.) tensor([-2.6189,  4.5619,  0.8574]) \t 1 \t 1\n",
      "22.) tensor([-7.7412,  4.7377,  9.4199]) \t 2 \t 2\n",
      "23.) tensor([ 3.5743, -1.3221, -2.4135]) \t 0 \t 0\n",
      "24.) tensor([ 4.5365, -2.2383, -2.8684]) \t 0 \t 0\n",
      "25.) tensor([-2.6579,  4.6177,  0.8823]) \t 1 \t 1\n",
      "26.) tensor([-3.2865,  5.2229,  1.2164]) \t 1 \t 1\n",
      "27.) tensor([-4.6514,  5.7776,  2.9273]) \t 1 \t 1\n",
      "28.) tensor([-2.9464,  4.8892,  1.0379]) \t 1 \t 1\n",
      "29.) tensor([ 4.5847, -2.2687, -2.8974]) \t 0 \t 0\n",
      "30.) tensor([-4.5784,  5.4554,  3.1660]) \t 1 \t 1\n",
      "corretos: 28\n"
     ]
    }
   ],
   "source": [
    "correct = 0\n",
    "with torch.no_grad():\n",
    "    for i, data in enumerate(x_test):\n",
    "        y_eval = model.forward(data)\n",
    "        #printando o tipo de flor\n",
    "        print(f'{i+1}.) {str(y_eval)} \\t {y_test[i]} \\t {y_eval.argmax().item()}')\n",
    "\n",
    "        #correto?\n",
    "        if y_eval.argmax().item() == y_test[i]:\n",
    "            correct += 1\n",
    "\n",
    "print(f'corretos: {correct}')"
   ]
  },
  {
   "cell_type": "code",
   "execution_count": 24,
   "metadata": {},
   "outputs": [
    {
     "name": "stdout",
     "output_type": "stream",
     "text": [
      "tensor([-5.9944,  4.5077,  6.6792])\n"
     ]
    }
   ],
   "source": [
    "#inserindo novos dados\n",
    "new_iris = torch.tensor([5.9,3.0,5.1,1.8])\n",
    "with torch.no_grad():\n",
    "    print(model(new_iris))"
   ]
  },
  {
   "cell_type": "code",
   "execution_count": 25,
   "metadata": {},
   "outputs": [],
   "source": [
    "#salvar e carregar o modelo de NN\n",
    "torch.save(model.state_dict(), \"modelinho.pt\")"
   ]
  },
  {
   "cell_type": "code",
   "execution_count": 27,
   "metadata": {},
   "outputs": [
    {
     "name": "stdout",
     "output_type": "stream",
     "text": [
      "tensor([-5.9944,  4.5077,  6.6792])\n"
     ]
    }
   ],
   "source": [
    "new_model = Model()\n",
    "new_model.load_state_dict(torch.load(\"modelinho.pt\"))\n",
    "with torch.no_grad():\n",
    "    print(new_model(new_iris))"
   ]
  }
 ],
 "metadata": {
  "kernelspec": {
   "display_name": "Python 3",
   "language": "python",
   "name": "python3"
  },
  "language_info": {
   "codemirror_mode": {
    "name": "ipython",
    "version": 3
   },
   "file_extension": ".py",
   "mimetype": "text/x-python",
   "name": "python",
   "nbconvert_exporter": "python",
   "pygments_lexer": "ipython3",
   "version": "3.11.4"
  }
 },
 "nbformat": 4,
 "nbformat_minor": 2
}
