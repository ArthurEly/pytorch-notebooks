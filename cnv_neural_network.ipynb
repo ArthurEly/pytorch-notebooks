{
 "cells": [
  {
   "cell_type": "code",
   "execution_count": 2,
   "metadata": {},
   "outputs": [
    {
     "name": "stderr",
     "output_type": "stream",
     "text": [
      "C:\\Users\\arthu\\AppData\\Local\\Temp\\ipykernel_16248\\1192155045.py:12: DeprecationWarning: \n",
      "Pyarrow will become a required dependency of pandas in the next major release of pandas (pandas 3.0),\n",
      "(to allow more performant data types, such as the Arrow string type, and better interoperability with other libraries)\n",
      "but was not found to be installed on your system.\n",
      "If this would cause problems for you,\n",
      "please provide us feedback at https://github.com/pandas-dev/pandas/issues/54466\n",
      "        \n",
      "  import pandas as pd\n"
     ]
    }
   ],
   "source": [
    "#yayyy - redes convolucionais\n",
    "#vamos usar o MNIST\n",
    "import torch\n",
    "import torch.nn as nn\n",
    "import torch.nn.functional as F\n",
    "\n",
    "from torch.utils.data import DataLoader\n",
    "from torchvision import datasets, transforms\n",
    "from torchvision.utils import make_grid\n",
    "\n",
    "import numpy as np\n",
    "import pandas as pd\n",
    "from sklearn.metrics import confusion_matrix\n",
    "import matplotlib.pyplot as plt\n",
    "%matplotlib inline"
   ]
  },
  {
   "cell_type": "code",
   "execution_count": 3,
   "metadata": {},
   "outputs": [],
   "source": [
    "# convertendo as imagens do mnist pra tensores 4d (# de imagens, h,w,color)\n",
    "transform = transforms.ToTensor()"
   ]
  },
  {
   "cell_type": "code",
   "execution_count": 4,
   "metadata": {},
   "outputs": [],
   "source": [
    "#pegar os dados de treino\n",
    "train_data = datasets.MNIST(root='/cnn_data', train=True, download=True, transform=transform)"
   ]
  },
  {
   "cell_type": "code",
   "execution_count": 5,
   "metadata": {},
   "outputs": [],
   "source": [
    "test_data = datasets.MNIST(root='/cnn_data', train=False, download=True, transform=transform)"
   ]
  },
  {
   "cell_type": "code",
   "execution_count": 6,
   "metadata": {},
   "outputs": [
    {
     "data": {
      "text/plain": [
       "Dataset MNIST\n",
       "    Number of datapoints: 60000\n",
       "    Root location: /cnn_data\n",
       "    Split: Train\n",
       "    StandardTransform\n",
       "Transform: ToTensor()"
      ]
     },
     "execution_count": 6,
     "metadata": {},
     "output_type": "execute_result"
    }
   ],
   "source": [
    "train_data"
   ]
  },
  {
   "cell_type": "code",
   "execution_count": 7,
   "metadata": {},
   "outputs": [],
   "source": [
    "#criando um batch pras imagens\n",
    "train_loader = DataLoader(train_data, batch_size=10, shuffle=True)\n",
    "test_loader = DataLoader(test_data, batch_size=10, shuffle=False)"
   ]
  },
  {
   "cell_type": "code",
   "execution_count": 8,
   "metadata": {},
   "outputs": [],
   "source": [
    "#definido o modelo (abstração)\n",
    "conv1 = nn.Conv2d(1, 6, 3, 1) \n",
    "#camada de 2 dimensões, com:\n",
    "# 1 imagem de entrada\n",
    "# 6 saídas\n",
    "# kernel 3x3\n",
    "# stride de 1\n",
    "conv2 = nn.Conv2d(6, 16, 3, 1) "
   ]
  },
  {
   "cell_type": "code",
   "execution_count": 9,
   "metadata": {},
   "outputs": [
    {
     "data": {
      "text/plain": [
       "torch.Size([1, 28, 28])"
      ]
     },
     "execution_count": 9,
     "metadata": {},
     "output_type": "execute_result"
    }
   ],
   "source": [
    "#pegando 1 imagem pra testar\n",
    "for i, (x_train, y_train) in enumerate(train_data):\n",
    "    break\n",
    "\n",
    "x_train.shape\n",
    "#uma imagem de 28x28"
   ]
  },
  {
   "cell_type": "code",
   "execution_count": 18,
   "metadata": {},
   "outputs": [],
   "source": [
    "x = x_train.view(1,1,28,28)"
   ]
  },
  {
   "cell_type": "code",
   "execution_count": 19,
   "metadata": {},
   "outputs": [],
   "source": [
    "#fazendo a primeira convolução\n",
    "x = F.relu(conv1(x))"
   ]
  },
  {
   "cell_type": "code",
   "execution_count": 20,
   "metadata": {},
   "outputs": [
    {
     "data": {
      "text/plain": [
       "torch.Size([1, 6, 26, 26])"
      ]
     },
     "execution_count": 20,
     "metadata": {},
     "output_type": "execute_result"
    }
   ],
   "source": [
    "x.shape\n",
    "# 1 entrada\n",
    "# 6 saídas, que no caso são filtros\n",
    "# 26x26 virou o tamanho da imagem, pq informações foram cortadas por serem inuteis"
   ]
  },
  {
   "cell_type": "code",
   "execution_count": 13,
   "metadata": {},
   "outputs": [],
   "source": [
    "#faznedo um pooling\n",
    "x = F.max_pool2d(x,2,2) #kernel 2x2 stride 2"
   ]
  },
  {
   "cell_type": "code",
   "execution_count": 14,
   "metadata": {},
   "outputs": [
    {
     "data": {
      "text/plain": [
       "torch.Size([6, 13, 13])"
      ]
     },
     "execution_count": 14,
     "metadata": {},
     "output_type": "execute_result"
    }
   ],
   "source": [
    "x.shape\n",
    "# 1 entrada\n",
    "# 6 saídas, que no caso são filtros\n",
    "# 13x13 porque meu pooling reduziu a informação em 2"
   ]
  },
  {
   "cell_type": "code",
   "execution_count": 15,
   "metadata": {},
   "outputs": [
    {
     "data": {
      "text/plain": [
       "torch.Size([16, 11, 11])"
      ]
     },
     "execution_count": 15,
     "metadata": {},
     "output_type": "execute_result"
    }
   ],
   "source": [
    "#segunda convolução\n",
    "x = F.relu(conv2(x))\n",
    "x.shape"
   ]
  },
  {
   "cell_type": "code",
   "execution_count": 16,
   "metadata": {},
   "outputs": [
    {
     "data": {
      "text/plain": [
       "torch.Size([16, 5, 5])"
      ]
     },
     "execution_count": 16,
     "metadata": {},
     "output_type": "execute_result"
    }
   ],
   "source": [
    "#pooling\n",
    "x = F.max_pool2d(x,2,2)\n",
    "x.shape"
   ]
  },
  {
   "cell_type": "code",
   "execution_count": 17,
   "metadata": {},
   "outputs": [],
   "source": [
    "#fazendo o modelo\n",
    "class ConvolutionalNetwork(nn.Module):\n",
    "    def __init__(self):\n",
    "        super().__init__()\n",
    "        self.conv1 = nn.Conv2d(1,6,3,1)\n",
    "        self.conv2 = nn.Conv2d(6,16,3,1)\n",
    "        #Fully Connected Layer\n",
    "        #tamanho do negócio que gerou ali no final\n",
    "        self.fc1 = nn.Linear(5*5*16, 120)\n",
    "        self.fc2 = nn.Linear(120, 84)\n",
    "        self.fc3 = nn.Linear(84, 10)\n",
    "\n",
    "    def forward(self, x):\n",
    "        x = F.relu(self.conv1(x))\n",
    "        x = F.max_pool2d(x,2,2)\n",
    "        x = F.relu(self.conv2(x))\n",
    "        x = F.max_pool2d(x,2,2)\n",
    "\n",
    "        #re-view pra deixar de um jeito bom pra FC\n",
    "        x = x.view(-1,16*5*5)\n",
    "\n",
    "        #camadas FC\n",
    "        x = F.relu(self.fc1(x))\n",
    "        x = F.relu(self.fc2(x))\n",
    "        x = self.fc3(x)\n",
    "\n",
    "        return F.log_softmax(x, dim=1)"
   ]
  },
  {
   "cell_type": "code",
   "execution_count": 17,
   "metadata": {},
   "outputs": [
    {
     "data": {
      "text/plain": [
       "ConvolutionalNetwork(\n",
       "  (conv1): Conv2d(1, 6, kernel_size=(3, 3), stride=(1, 1))\n",
       "  (conv2): Conv2d(6, 16, kernel_size=(3, 3), stride=(1, 1))\n",
       "  (fc1): Linear(in_features=400, out_features=120, bias=True)\n",
       "  (fc2): Linear(in_features=120, out_features=84, bias=True)\n",
       "  (fc3): Linear(in_features=84, out_features=10, bias=True)\n",
       ")"
      ]
     },
     "execution_count": 17,
     "metadata": {},
     "output_type": "execute_result"
    }
   ],
   "source": [
    "#instanciando o modelo\n",
    "torch.manual_seed(41)\n",
    "\n",
    "model = ConvolutionalNetwork()\n",
    "model"
   ]
  },
  {
   "cell_type": "code",
   "execution_count": 18,
   "metadata": {},
   "outputs": [],
   "source": [
    "criterion = nn.CrossEntropyLoss()\n",
    "optimizer = torch.optim.Adam(model.parameters(), lr=0.001) #quando menor lr, mais tempo demora"
   ]
  },
  {
   "cell_type": "code",
   "execution_count": 19,
   "metadata": {},
   "outputs": [
    {
     "name": "stdout",
     "output_type": "stream",
     "text": [
      "Epoch: 0  Batch: 600  Loss:0.1623609960079193\n",
      "Epoch: 0  Batch: 1200  Loss:0.16026657819747925\n",
      "Epoch: 0  Batch: 1800  Loss:0.49889492988586426\n",
      "Epoch: 0  Batch: 2400  Loss:0.11830595880746841\n",
      "Epoch: 0  Batch: 3000  Loss:0.0061146290972828865\n",
      "Epoch: 0  Batch: 3600  Loss:0.238155797123909\n",
      "Epoch: 0  Batch: 4200  Loss:0.003644376527518034\n",
      "Epoch: 0  Batch: 4800  Loss:0.0021698237396776676\n",
      "Epoch: 0  Batch: 5400  Loss:0.07755373418331146\n",
      "Epoch: 0  Batch: 6000  Loss:0.0002884259447455406\n",
      "Epoch: 1  Batch: 600  Loss:0.004861851688474417\n",
      "Epoch: 1  Batch: 1200  Loss:0.19988016784191132\n",
      "Epoch: 1  Batch: 1800  Loss:0.004553110338747501\n",
      "Epoch: 1  Batch: 2400  Loss:0.0025569007266312838\n",
      "Epoch: 1  Batch: 3000  Loss:0.015609299764037132\n",
      "Epoch: 1  Batch: 3600  Loss:0.21742162108421326\n",
      "Epoch: 1  Batch: 4200  Loss:0.05246808007359505\n",
      "Epoch: 1  Batch: 4800  Loss:0.0003773050266318023\n",
      "Epoch: 1  Batch: 5400  Loss:0.0007389271631836891\n",
      "Epoch: 1  Batch: 6000  Loss:0.28228649497032166\n",
      "Epoch: 2  Batch: 600  Loss:0.07676893472671509\n",
      "Epoch: 2  Batch: 1200  Loss:0.0018244950333610177\n",
      "Epoch: 2  Batch: 1800  Loss:0.0008819403010420501\n",
      "Epoch: 2  Batch: 2400  Loss:0.007949416525661945\n",
      "Epoch: 2  Batch: 3000  Loss:0.03658245876431465\n",
      "Epoch: 2  Batch: 3600  Loss:0.010407831519842148\n",
      "Epoch: 2  Batch: 4200  Loss:0.02196316421031952\n",
      "Epoch: 2  Batch: 4800  Loss:0.003115355269983411\n",
      "Epoch: 2  Batch: 5400  Loss:0.010440045967698097\n",
      "Epoch: 2  Batch: 6000  Loss:0.032525669783353806\n",
      "Epoch: 3  Batch: 600  Loss:0.0004967261338606477\n",
      "Epoch: 3  Batch: 1200  Loss:0.0252799354493618\n",
      "Epoch: 3  Batch: 1800  Loss:0.019371353089809418\n",
      "Epoch: 3  Batch: 2400  Loss:7.679071859456599e-05\n",
      "Epoch: 3  Batch: 3000  Loss:0.0010263739386573434\n",
      "Epoch: 3  Batch: 3600  Loss:0.00035778668825514615\n",
      "Epoch: 3  Batch: 4200  Loss:0.008910426869988441\n",
      "Epoch: 3  Batch: 4800  Loss:0.0001981719833565876\n",
      "Epoch: 3  Batch: 5400  Loss:0.20465393364429474\n",
      "Epoch: 3  Batch: 6000  Loss:0.0010456035379320383\n",
      "Epoch: 4  Batch: 600  Loss:0.00903335027396679\n",
      "Epoch: 4  Batch: 1200  Loss:0.08969030529260635\n",
      "Epoch: 4  Batch: 1800  Loss:0.14003998041152954\n",
      "Epoch: 4  Batch: 2400  Loss:7.693332736380398e-05\n",
      "Epoch: 4  Batch: 3000  Loss:0.0004037500766571611\n",
      "Epoch: 4  Batch: 3600  Loss:0.01016541849821806\n",
      "Epoch: 4  Batch: 4200  Loss:0.0012663742527365685\n",
      "Epoch: 4  Batch: 4800  Loss:0.0010448427638038993\n",
      "Epoch: 4  Batch: 5400  Loss:0.1886601597070694\n",
      "Epoch: 4  Batch: 6000  Loss:0.00010400819883216172\n",
      "total_time: 3.0847537755966186 minutos\n"
     ]
    }
   ],
   "source": [
    "#treinar!!!!!\n",
    "import time\n",
    "start_time = time.time()\n",
    "\n",
    "#variáveis pra cuidar da precisão da rede\n",
    "epochs = 5 #de 5 em 5\n",
    "train_losses = []\n",
    "test_losses = []\n",
    "train_correct = []\n",
    "test_correct = []\n",
    "\n",
    "#loops pras epochs\n",
    "for i in range(epochs):\n",
    "    trn_correct = 0\n",
    "    tst_correct = 0\n",
    "    #treino\n",
    "    for b, (x_train, y_train) in enumerate(train_loader):\n",
    "        b += 1\n",
    "        y_pred = model(x_train)\n",
    "        loss = criterion(y_pred, y_train)\n",
    "        predicted = torch.max(y_pred,1)[1]\n",
    "        batch_corr = (predicted == y_train).sum()\n",
    "        trn_correct += batch_corr\n",
    "\n",
    "        #atualizar os parâmetros\n",
    "        optimizer.zero_grad()\n",
    "        loss.backward()\n",
    "        optimizer.step()\n",
    "\n",
    "        #printar uns resultados\n",
    "        if (b%600 == 0):\n",
    "            print(f'Epoch: {i}  Batch: {b}  Loss:{loss.item()}')\n",
    "\n",
    "    train_losses.append(loss)\n",
    "    train_correct.append(trn_correct)\n",
    "\n",
    "    #teste\n",
    "    with torch.no_grad(): #sem backpropagation\n",
    "        for b, (x_test, y_test) in enumerate(test_loader):\n",
    "            y_val = model(x_test)\n",
    "            predicted = torch.max(y_val.data,1)[1]\n",
    "            tst_correct += (predicted == y_train).sum()\n",
    "    \n",
    "    loss = criterion(y_val, y_test)\n",
    "    test_losses.append(loss)\n",
    "    test_correct.append(tst_correct)\n",
    "\n",
    "current_time = time.time()\n",
    "total_time = current_time - start_time\n",
    "print(f'total_time: {total_time/60} minutos')"
   ]
  },
  {
   "cell_type": "code",
   "execution_count": 20,
   "metadata": {},
   "outputs": [
    {
     "data": {
      "text/plain": [
       "<matplotlib.legend.Legend at 0x1de56690ad0>"
      ]
     },
     "execution_count": 20,
     "metadata": {},
     "output_type": "execute_result"
    },
    {
     "data": {
      "image/png": "[encoded data removed]",
      "text/plain": [
       "<Figure size 640x480 with 1 Axes>"
      ]
     },
     "metadata": {},
     "output_type": "display_data"
    }
   ],
   "source": [
    "#gráficos!\n",
    "train_losses = [tl.item() for tl in train_losses]\n",
    "plt.plot(train_losses, label=\"Training loss\")\n",
    "plt.plot(test_losses, label=\"Test loss\")\n",
    "plt.title(\"Loss at Epoch\")\n",
    "plt.legend()"
   ]
  },
  {
   "cell_type": "code",
   "execution_count": 21,
   "metadata": {},
   "outputs": [],
   "source": [
    "test_load_everything = DataLoader(test_data, batch_size=10000, shuffle=False)"
   ]
  },
  {
   "cell_type": "code",
   "execution_count": 22,
   "metadata": {},
   "outputs": [
    {
     "name": "stdout",
     "output_type": "stream",
     "text": [
      "certos: 9840!!!\n",
      "precisão: 0.984!!!\n"
     ]
    }
   ],
   "source": [
    "with torch.no_grad():\n",
    "    correct = 0\n",
    "    for x_test, y_test in test_load_everything:\n",
    "        y_val = model(x_test)\n",
    "        predicted = torch.max(y_val, 1)[1]\n",
    "        correct += (predicted == y_test).sum()\n",
    "    \n",
    "print(f\"certos: {correct.item()}!!!\")\n",
    "print(f\"precisão: {correct.item()/len(test_data)}!!!\")"
   ]
  },
  {
   "cell_type": "code",
   "execution_count": 29,
   "metadata": {},
   "outputs": [],
   "source": [
    "# pegando uma imagem\n",
    "img = test_data[495][0].reshape(28,28) #nos dá um tensor com dados de uma imagem"
   ]
  },
  {
   "cell_type": "code",
   "execution_count": 30,
   "metadata": {},
   "outputs": [
    {
     "data": {
      "text/plain": [
       "<matplotlib.image.AxesImage at 0x1de567a37d0>"
      ]
     },
     "execution_count": 30,
     "metadata": {},
     "output_type": "execute_result"
    },
    {
     "data": {
      "image/png": "[encoded data removed]",
      "text/plain": [
       "<Figure size 640x480 with 1 Axes>"
      ]
     },
     "metadata": {},
     "output_type": "display_data"
    }
   ],
   "source": [
    "#mostrando\n",
    "plt.imshow(img)"
   ]
  },
  {
   "cell_type": "code",
   "execution_count": 31,
   "metadata": {},
   "outputs": [
    {
     "data": {
      "text/plain": [
       "tensor(8)"
      ]
     },
     "execution_count": 31,
     "metadata": {},
     "output_type": "execute_result"
    }
   ],
   "source": [
    "#rodar\n",
    "model.eval()\n",
    "with torch.no_grad():\n",
    "    new_prediction = model(img.view(1,1,28,28))\n",
    "\n",
    "new_prediction.argmax()"
   ]
  }
 ],
 "metadata": {
  "kernelspec": {
   "display_name": "Python 3",
   "language": "python",
   "name": "python3"
  },
  "language_info": {
   "codemirror_mode": {
    "name": "ipython",
    "version": 3
   },
   "file_extension": ".py",
   "mimetype": "text/x-python",
   "name": "python",
   "nbconvert_exporter": "python",
   "pygments_lexer": "ipython3",
   "version": "3.11.4"
  }
 },
 "nbformat": 4,
 "nbformat_minor": 2
}
