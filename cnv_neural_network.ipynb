{
 "cells": [
  {
   "cell_type": "code",
   "execution_count": 1,
   "metadata": {},
   "outputs": [
    {
     "name": "stderr",
     "output_type": "stream",
     "text": [
      "C:\\Users\\arthu\\AppData\\Local\\Temp\\ipykernel_4184\\1192155045.py:12: DeprecationWarning: \n",
      "Pyarrow will become a required dependency of pandas in the next major release of pandas (pandas 3.0),\n",
      "(to allow more performant data types, such as the Arrow string type, and better interoperability with other libraries)\n",
      "but was not found to be installed on your system.\n",
      "If this would cause problems for you,\n",
      "please provide us feedback at https://github.com/pandas-dev/pandas/issues/54466\n",
      "        \n",
      "  import pandas as pd\n"
     ]
    }
   ],
   "source": [
    "#yayyy - redes convolucionais\n",
    "#vamos usar o MNIST\n",
    "import torch\n",
    "import torch.nn as nn\n",
    "import torch.nn.functional as F\n",
    "\n",
    "from torch.utils.data import DataLoader\n",
    "from torchvision import datasets, transforms\n",
    "from torchvision.utils import make_grid\n",
    "\n",
    "import numpy as np\n",
    "import pandas as pd\n",
    "from sklearn.metrics import confusion_matrix\n",
    "import matplotlib.pyplot as plt\n",
    "%matplotlib inline"
   ]
  },
  {
   "cell_type": "code",
   "execution_count": 2,
   "metadata": {},
   "outputs": [],
   "source": [
    "# convertendo as imagens do mnist pra tensores 4d (# de imagens, h,w,color)\n",
    "transform = transforms.ToTensor()"
   ]
  },
  {
   "cell_type": "code",
   "execution_count": 3,
   "metadata": {},
   "outputs": [],
   "source": [
    "#pegar os dados de treino\n",
    "train_data = datasets.MNIST(root='/cnn_data', train=True, download=True, transform=transform)"
   ]
  },
  {
   "cell_type": "code",
   "execution_count": 4,
   "metadata": {},
   "outputs": [],
   "source": [
    "test_data = datasets.MNIST(root='/cnn_data', train=False, download=True, transform=transform)"
   ]
  },
  {
   "cell_type": "code",
   "execution_count": 5,
   "metadata": {},
   "outputs": [
    {
     "data": {
      "text/plain": [
       "Dataset MNIST\n",
       "    Number of datapoints: 60000\n",
       "    Root location: /cnn_data\n",
       "    Split: Train\n",
       "    StandardTransform\n",
       "Transform: ToTensor()"
      ]
     },
     "execution_count": 5,
     "metadata": {},
     "output_type": "execute_result"
    }
   ],
   "source": [
    "train_data"
   ]
  },
  {
   "cell_type": "code",
   "execution_count": 6,
   "metadata": {},
   "outputs": [],
   "source": [
    "#criando um batch pras imagens\n",
    "train_loader = DataLoader(train_data, batch_size=10, shuffle=True)\n",
    "test_loader = DataLoader(test_data, batch_size=10, shuffle=False)"
   ]
  },
  {
   "cell_type": "code",
   "execution_count": 7,
   "metadata": {},
   "outputs": [],
   "source": [
    "#definido o modelo (abstração)\n",
    "conv1 = nn.Conv2d(1, 6, 3, 1) \n",
    "#camada de 2 dimensões, com:\n",
    "# 1 imagem de entrada\n",
    "# 6 saídas\n",
    "# kernel 3x3\n",
    "# stride de 1\n",
    "conv2 = nn.Conv2d(6, 16, 3, 1) "
   ]
  },
  {
   "cell_type": "code",
   "execution_count": 8,
   "metadata": {},
   "outputs": [
    {
     "data": {
      "text/plain": [
       "torch.Size([1, 28, 28])"
      ]
     },
     "execution_count": 8,
     "metadata": {},
     "output_type": "execute_result"
    }
   ],
   "source": [
    "#pegando 1 imagem pra testar\n",
    "for i, (x_train, y_train) in enumerate(train_data):\n",
    "    break\n",
    "\n",
    "x_train.shape\n",
    "#uma imagem de 28x28"
   ]
  },
  {
   "cell_type": "code",
   "execution_count": 9,
   "metadata": {},
   "outputs": [],
   "source": [
    "x = x_train.view(1,1,28,28)"
   ]
  },
  {
   "cell_type": "code",
   "execution_count": 10,
   "metadata": {},
   "outputs": [],
   "source": [
    "#fazendo a primeira convolução\n",
    "x = F.relu(conv1(x))"
   ]
  },
  {
   "cell_type": "code",
   "execution_count": 11,
   "metadata": {},
   "outputs": [
    {
     "data": {
      "text/plain": [
       "torch.Size([1, 6, 26, 26])"
      ]
     },
     "execution_count": 11,
     "metadata": {},
     "output_type": "execute_result"
    }
   ],
   "source": [
    "x.shape\n",
    "# 1 entrada\n",
    "# 6 saídas, que no caso são filtros\n",
    "# 26x26 virou o tamanho da imagem, pq informações foram cortadas por serem inuteis"
   ]
  },
  {
   "cell_type": "code",
   "execution_count": 12,
   "metadata": {},
   "outputs": [],
   "source": [
    "#faznedo um pooling\n",
    "x = F.max_pool2d(x,2,2) #kernel 2x2 stride 2"
   ]
  },
  {
   "cell_type": "code",
   "execution_count": 13,
   "metadata": {},
   "outputs": [
    {
     "data": {
      "text/plain": [
       "torch.Size([1, 6, 13, 13])"
      ]
     },
     "execution_count": 13,
     "metadata": {},
     "output_type": "execute_result"
    }
   ],
   "source": [
    "x.shape\n",
    "# 1 entrada\n",
    "# 6 saídas, que no caso são filtros\n",
    "# 13x13 porque meu pooling reduziu a informação em 2"
   ]
  },
  {
   "cell_type": "code",
   "execution_count": 14,
   "metadata": {},
   "outputs": [
    {
     "data": {
      "text/plain": [
       "torch.Size([1, 16, 11, 11])"
      ]
     },
     "execution_count": 14,
     "metadata": {},
     "output_type": "execute_result"
    }
   ],
   "source": [
    "#segunda convolução\n",
    "x = F.relu(conv2(x))\n",
    "x.shape"
   ]
  },
  {
   "cell_type": "code",
   "execution_count": 15,
   "metadata": {},
   "outputs": [
    {
     "data": {
      "text/plain": [
       "torch.Size([1, 16, 5, 5])"
      ]
     },
     "execution_count": 15,
     "metadata": {},
     "output_type": "execute_result"
    }
   ],
   "source": [
    "#pooling\n",
    "x = F.max_pool2d(x,2,2)\n",
    "x.shape"
   ]
  },
  {
   "cell_type": "code",
   "execution_count": 17,
   "metadata": {},
   "outputs": [],
   "source": [
    "#fazendo o modelo\n",
    "class ConvolutionalNetwork(nn.Module):\n",
    "    def __init__(self):\n",
    "        super().__init__()\n",
    "        self.conv1 = nn.Conv2d(1,6,3,1)\n",
    "        self.conv2 = nn.Conv2d(6,16,3,1)\n",
    "        #Fully Connected Layer\n",
    "        #tamanho do negócio que gerou ali no final\n",
    "        self.fc1 = nn.Linear(5*5*16, 120)\n",
    "        self.fc2 = nn.Linear(120, 84)\n",
    "        self.fc3 = nn.Linear(84, 10)\n",
    "\n",
    "    def forward(self, x):\n",
    "        x = F.relu(self.conv1(x))\n",
    "        x = F.max_pool2d(x,2,2)\n",
    "        x = F.relu(self.conv2(x))\n",
    "        x = F.max_pool2d(x,2,2)\n",
    "\n",
    "        #re-view pra deixar de um jeito bom pra FC\n",
    "        x = x.view(-1,16*5*5)\n",
    "\n",
    "        #camadas FC\n",
    "        x = F.relu(self.fc1(x))\n",
    "        x = F.relu(self.fc2(x))\n",
    "        x = self.fc3(x)\n",
    "\n",
    "        return F.log_softmax(x, dim=1)"
   ]
  },
  {
   "cell_type": "code",
   "execution_count": 18,
   "metadata": {},
   "outputs": [
    {
     "data": {
      "text/plain": [
       "ConvolutionalNetwork(\n",
       "  (conv1): Conv2d(1, 6, kernel_size=(3, 3), stride=(1, 1))\n",
       "  (conv2): Conv2d(6, 16, kernel_size=(3, 3), stride=(1, 1))\n",
       "  (fc1): Linear(in_features=400, out_features=120, bias=True)\n",
       "  (fc2): Linear(in_features=120, out_features=84, bias=True)\n",
       "  (fc3): Linear(in_features=84, out_features=10, bias=True)\n",
       ")"
      ]
     },
     "execution_count": 18,
     "metadata": {},
     "output_type": "execute_result"
    }
   ],
   "source": [
    "#instanciando o modelo\n",
    "torch.manual_seed(41)\n",
    "\n",
    "model = ConvolutionalNetwork()\n",
    "model"
   ]
  },
  {
   "cell_type": "code",
   "execution_count": 20,
   "metadata": {},
   "outputs": [],
   "source": [
    "criterion = nn.CrossEntropyLoss()\n",
    "optimizer = torch.optim.Adam(model.parameters(), lr=0.001) #quando menor lr, mais tempo demora"
   ]
  },
  {
   "cell_type": "code",
   "execution_count": 21,
   "metadata": {},
   "outputs": [
    {
     "name": "stdout",
     "output_type": "stream",
     "text": [
      "Epoch: 0  Batch: 600  Loss:0.012505684979259968\n",
      "Epoch: 0  Batch: 1200  Loss:0.057655591517686844\n",
      "Epoch: 0  Batch: 1800  Loss:0.015625834465026855\n",
      "Epoch: 0  Batch: 2400  Loss:0.1324503868818283\n",
      "Epoch: 0  Batch: 3000  Loss:0.003808070672675967\n",
      "Epoch: 0  Batch: 3600  Loss:0.010613595135509968\n",
      "Epoch: 0  Batch: 4200  Loss:0.23633775115013123\n",
      "Epoch: 0  Batch: 4800  Loss:0.007425201125442982\n",
      "Epoch: 0  Batch: 5400  Loss:0.017431829124689102\n",
      "Epoch: 0  Batch: 6000  Loss:0.009718138724565506\n",
      "Epoch: 1  Batch: 600  Loss:0.010102563537657261\n",
      "Epoch: 1  Batch: 1200  Loss:0.013631263747811317\n",
      "Epoch: 1  Batch: 1800  Loss:0.026421785354614258\n",
      "Epoch: 1  Batch: 2400  Loss:0.2190006673336029\n",
      "Epoch: 1  Batch: 3000  Loss:0.05793539434671402\n",
      "Epoch: 1  Batch: 3600  Loss:0.000245834409724921\n",
      "Epoch: 1  Batch: 4200  Loss:0.00030721232178620994\n",
      "Epoch: 1  Batch: 4800  Loss:0.0005000090459361672\n",
      "Epoch: 1  Batch: 5400  Loss:0.006974146701395512\n",
      "Epoch: 1  Batch: 6000  Loss:0.0005777432816103101\n",
      "Epoch: 2  Batch: 600  Loss:0.026135403662919998\n",
      "Epoch: 2  Batch: 1200  Loss:0.0014986719470471144\n",
      "Epoch: 2  Batch: 1800  Loss:0.0015261623775586486\n",
      "Epoch: 2  Batch: 2400  Loss:0.0035610490012913942\n",
      "Epoch: 2  Batch: 3000  Loss:0.37995201349258423\n",
      "Epoch: 2  Batch: 3600  Loss:0.006888176314532757\n",
      "Epoch: 2  Batch: 4200  Loss:0.0014811706496402621\n",
      "Epoch: 2  Batch: 4800  Loss:0.07554247230291367\n",
      "Epoch: 2  Batch: 5400  Loss:0.002081527141854167\n",
      "Epoch: 2  Batch: 6000  Loss:0.00701449578627944\n",
      "Epoch: 3  Batch: 600  Loss:0.0016838854644447565\n",
      "Epoch: 3  Batch: 1200  Loss:0.0016860011965036392\n",
      "Epoch: 3  Batch: 1800  Loss:0.006500733084976673\n",
      "Epoch: 3  Batch: 2400  Loss:0.0018310348968952894\n",
      "Epoch: 3  Batch: 3000  Loss:0.010324405506253242\n",
      "Epoch: 3  Batch: 3600  Loss:0.0003687640419229865\n",
      "Epoch: 3  Batch: 4200  Loss:0.001603991142474115\n",
      "Epoch: 3  Batch: 4800  Loss:0.22290675342082977\n",
      "Epoch: 3  Batch: 5400  Loss:0.00014453832409344614\n",
      "Epoch: 3  Batch: 6000  Loss:0.029810989275574684\n",
      "Epoch: 4  Batch: 600  Loss:0.0010722854640334845\n",
      "Epoch: 4  Batch: 1200  Loss:0.000531436875462532\n",
      "Epoch: 4  Batch: 1800  Loss:0.003261777339503169\n",
      "Epoch: 4  Batch: 2400  Loss:0.02664654515683651\n",
      "Epoch: 4  Batch: 3000  Loss:0.00019257252279203385\n",
      "Epoch: 4  Batch: 3600  Loss:0.4495249390602112\n",
      "Epoch: 4  Batch: 4200  Loss:0.0013657176168635488\n",
      "Epoch: 4  Batch: 4800  Loss:0.000137853785417974\n",
      "Epoch: 4  Batch: 5400  Loss:4.2531184590188786e-05\n",
      "Epoch: 4  Batch: 6000  Loss:0.016072306782007217\n",
      "total_time: 3.9150673270225527 minutos\n"
     ]
    }
   ],
   "source": [
    "#treinar!!!!!\n",
    "import time\n",
    "start_time = time.time()\n",
    "\n",
    "#variáveis pra cuidar da precisão da rede\n",
    "epochs = 5 #de 5 em 5\n",
    "train_losses = []\n",
    "test_losses = []\n",
    "train_correct = []\n",
    "test_correct = []\n",
    "\n",
    "#loops pras epochs\n",
    "for i in range(epochs):\n",
    "    trn_correct = 0\n",
    "    tst_correct = 0\n",
    "    #treino\n",
    "    for b, (x_train, y_train) in enumerate(train_loader):\n",
    "        b += 1\n",
    "        y_pred = model(x_train)\n",
    "        loss = criterion(y_pred, y_train)\n",
    "        predicted = torch.max(y_pred,1)[1]\n",
    "        batch_corr = (predicted == y_train).sum()\n",
    "        trn_correct += batch_corr\n",
    "\n",
    "        #atualizar os parâmetros\n",
    "        optimizer.zero_grad()\n",
    "        loss.backward()\n",
    "        optimizer.step()\n",
    "\n",
    "        #printar uns resultados\n",
    "        if (b%600 == 0):\n",
    "            print(f'Epoch: {i}  Batch: {b}  Loss:{loss.item()}')\n",
    "\n",
    "    train_losses.append(loss)\n",
    "    train_correct.append(trn_correct)\n",
    "\n",
    "    #teste\n",
    "    with torch.no_grad(): #sem backpropagation\n",
    "        for b, (x_test, y_test) in enumerate(test_loader):\n",
    "            y_val = model(x_test)\n",
    "            predicted = torch.max(y_val.data,1)[1]\n",
    "            tst_correct += (predicted == y_train).sum()\n",
    "    \n",
    "    loss = criterion(y_val, y_test)\n",
    "    test_losses.append(loss)\n",
    "    test_correct.append(tst_correct)\n",
    "\n",
    "current_time = time.time()\n",
    "total_time = current_time - start_time\n",
    "print(f'total_time: {total_time/60} minutos')"
   ]
  },
  {
   "cell_type": "code",
   "execution_count": 22,
   "metadata": {},
   "outputs": [
    {
     "data": {
      "text/plain": [
       "<matplotlib.legend.Legend at 0x22690603290>"
      ]
     },
     "execution_count": 22,
     "metadata": {},
     "output_type": "execute_result"
    },
    {
     "data": {
      "image/png": "[encoded data removed]",
      "text/plain": [
       "<Figure size 640x480 with 1 Axes>"
      ]
     },
     "metadata": {},
     "output_type": "display_data"
    }
   ],
   "source": [
    "#gráficos!\n",
    "train_losses = [tl.item() for tl in train_losses]\n",
    "plt.plot(train_losses, label=\"Training loss\")\n",
    "plt.plot(test_losses, label=\"Test loss\")\n",
    "plt.title(\"Loss at Epoch\")\n",
    "plt.legend()"
   ]
  },
  {
   "cell_type": "code",
   "execution_count": 23,
   "metadata": {},
   "outputs": [],
   "source": [
    "test_load_everything = DataLoader(test_data, batch_size=10000, shuffle=False)"
   ]
  },
  {
   "cell_type": "code",
   "execution_count": 24,
   "metadata": {},
   "outputs": [
    {
     "name": "stdout",
     "output_type": "stream",
     "text": [
      "certos: 9875!!!\n",
      "precisão: 0.9875!!!\n"
     ]
    }
   ],
   "source": [
    "with torch.no_grad():\n",
    "    correct = 0\n",
    "    for x_test, y_test in test_load_everything:\n",
    "        y_val = model(x_test)\n",
    "        predicted = torch.max(y_val, 1)[1]\n",
    "        correct += (predicted == y_test).sum()\n",
    "    \n",
    "print(f\"certos: {correct.item()}!!!\")\n",
    "print(f\"precisão: {correct.item()/len(test_data)}!!!\")"
   ]
  },
  {
   "cell_type": "code",
   "execution_count": 41,
   "metadata": {},
   "outputs": [],
   "source": [
    "# pegando uma imagem\n",
    "img = test_data[413][0].reshape(28,28) #nos dá um tensor com dados de uma imagem"
   ]
  },
  {
   "cell_type": "code",
   "execution_count": 42,
   "metadata": {},
   "outputs": [
    {
     "data": {
      "text/plain": [
       "<matplotlib.image.AxesImage at 0x22690c0b810>"
      ]
     },
     "execution_count": 42,
     "metadata": {},
     "output_type": "execute_result"
    },
    {
     "data": {
      "image/png": "[encoded data removed]",
      "text/plain": [
       "<Figure size 640x480 with 1 Axes>"
      ]
     },
     "metadata": {},
     "output_type": "display_data"
    }
   ],
   "source": [
    "#mostrando\n",
    "plt.imshow(img)"
   ]
  },
  {
   "cell_type": "code",
   "execution_count": 43,
   "metadata": {},
   "outputs": [
    {
     "data": {
      "text/plain": [
       "tensor(7)"
      ]
     },
     "execution_count": 43,
     "metadata": {},
     "output_type": "execute_result"
    }
   ],
   "source": [
    "#rodar\n",
    "model.eval()\n",
    "with torch.no_grad():\n",
    "    new_prediction = model(img.view(1,1,28,28))\n",
    "\n",
    "new_prediction.argmax()"
   ]
  }
 ],
 "metadata": {
  "kernelspec": {
   "display_name": "Python 3",
   "language": "python",
   "name": "python3"
  },
  "language_info": {
   "codemirror_mode": {
    "name": "ipython",
    "version": 3
   },
   "file_extension": ".py",
   "mimetype": "text/x-python",
   "name": "python",
   "nbconvert_exporter": "python",
   "pygments_lexer": "ipython3",
   "version": "3.11.4"
  }
 },
 "nbformat": 4,
 "nbformat_minor": 2
}
