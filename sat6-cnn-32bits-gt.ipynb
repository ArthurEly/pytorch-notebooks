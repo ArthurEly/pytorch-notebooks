{
 "cells": [
  {
   "cell_type": "code",
   "execution_count": 1,
   "metadata": {},
   "outputs": [],
   "source": [
    "#https://www.kaggle.com/code/vmarkin/advatt\n",
    "# carregar as bibliotecas básicas necessárias\n",
    "import pandas as pd\n",
    "import numpy as np\n",
    "import matplotlib.pyplot as plt\n",
    "import torch.nn.functional as F\n",
    "\n",
    "# gerar os gráficos logo abaixo dos comandos de plot\n",
    "%matplotlib inline"
   ]
  },
  {
   "cell_type": "code",
   "execution_count": 2,
   "metadata": {},
   "outputs": [],
   "source": [
    "train_data_path = 'dataset/X_train_sat6.csv'\n",
    "train_label_path = 'dataset/y_train_sat6.csv'\n",
    "test_data_path = 'dataset/X_test_sat6.csv'\n",
    "test_label_path = 'dataset/y_test_sat6.csv'\n",
    "train_qtdy = 100000\n",
    "test_qtdy = 50000     "
   ]
  },
  {
   "cell_type": "code",
   "execution_count": 3,
   "metadata": {},
   "outputs": [],
   "source": [
    "def data_read(data_path, nrows):\n",
    "    data=pd.read_csv(data_path, header=None, nrows=nrows, dtype=np.uint8)\n",
    "    data=data.values ## converting the data into numpy array\n",
    "    return data"
   ]
  },
  {
   "cell_type": "code",
   "execution_count": 4,
   "metadata": {},
   "outputs": [
    {
     "name": "stdout",
     "output_type": "stream",
     "text": [
      "Train data shape:(100000, 3136)\n",
      "Train data label shape:(100000, 6)\n",
      "Test data shape:(50000, 3136)\n",
      "Test data label shape:(50000, 6)\n"
     ]
    }
   ],
   "source": [
    "train_data=data_read(train_data_path, nrows=train_qtdy)\n",
    "print(\"Train data shape:\" + str(train_data.shape))\n",
    "\n",
    "##Read training data labels\n",
    "train_data_label=data_read(train_label_path,nrows=train_qtdy)\n",
    "print(\"Train data label shape:\" + str(train_data_label.shape))\n",
    "train_dl = np.zeros((train_qtdy, 8),dtype=np.float32)\n",
    "train_dl[:, :6] = train_data_label;\n",
    "\n",
    "##Read test data\n",
    "test_data=data_read(test_data_path, nrows=test_qtdy)\n",
    "print(\"Test data shape:\" + str(test_data.shape))\n",
    "\n",
    "\n",
    "##Read test data labels\n",
    "test_data_label=data_read(test_label_path,nrows=test_qtdy)\n",
    "print(\"Test data label shape:\" + str(test_data_label.shape))\n",
    "test_dl = np.zeros((test_qtdy, 8),dtype=np.float32)\n",
    "test_dl[:, :6] = test_data_label;"
   ]
  },
  {
   "cell_type": "code",
   "execution_count": 5,
   "metadata": {},
   "outputs": [
    {
     "name": "stdout",
     "output_type": "stream",
     "text": [
      "(3136,)\n",
      "[[[116 119 118]\n",
      "  [108 113 118]\n",
      "  [ 67  60  59]\n",
      "  ...\n",
      "  [  0   0   0]\n",
      "  [  0   0   0]\n",
      "  [  0   0   0]]\n",
      "\n",
      " [[122 128 119]\n",
      "  [113 121 114]\n",
      "  [ 64  63  46]\n",
      "  ...\n",
      "  [  0   0   0]\n",
      "  [  0   0   0]\n",
      "  [  0   0   0]]\n",
      "\n",
      " [[105 105  93]\n",
      "  [110 117 106]\n",
      "  [ 95 101  90]\n",
      "  ...\n",
      "  [  0   0   0]\n",
      "  [  0   0   0]\n",
      "  [  0   0   0]]\n",
      "\n",
      " ...\n",
      "\n",
      " [[  0   0   0]\n",
      "  [  0   0   0]\n",
      "  [  0   0   0]\n",
      "  ...\n",
      "  [  0   0   0]\n",
      "  [  0   0   0]\n",
      "  [  0   0   0]]\n",
      "\n",
      " [[  0   0   0]\n",
      "  [  0   0   0]\n",
      "  [  0   0   0]\n",
      "  ...\n",
      "  [  0   0   0]\n",
      "  [  0   0   0]\n",
      "  [  0   0   0]]\n",
      "\n",
      " [[  0   0   0]\n",
      "  [  0   0   0]\n",
      "  [  0   0   0]\n",
      "  ...\n",
      "  [  0   0   0]\n",
      "  [  0   0   0]\n",
      "  [  0   0   0]]]\n",
      "(32, 32, 3)\n"
     ]
    }
   ],
   "source": [
    "example = train_data[0]\n",
    "print(example.shape)\n",
    "reshaped_ex = example.reshape((28,28,4))[:,:,:3] #convert to rgb \n",
    "\n",
    "ex = np.zeros((32, 32, 3),dtype=np.int32)\n",
    "ex[:28, :28, :] = reshaped_ex\n",
    "print(ex)\n",
    "print(ex.shape)"
   ]
  },
  {
   "cell_type": "code",
   "execution_count": 6,
   "metadata": {},
   "outputs": [],
   "source": [
    "from matplotlib import pyplot as plt "
   ]
  },
  {
   "cell_type": "code",
   "execution_count": 7,
   "metadata": {},
   "outputs": [
    {
     "data": {
      "text/plain": [
       "<matplotlib.image.AxesImage at 0x7f6adfefc280>"
      ]
     },
     "execution_count": 7,
     "metadata": {},
     "output_type": "execute_result"
    },
    {
     "data": {
      "image/png": "[encoded data removed]",
      "text/plain": [
       "<Figure size 640x480 with 1 Axes>"
      ]
     },
     "metadata": {},
     "output_type": "display_data"
    }
   ],
   "source": [
    "plt.imshow(ex)"
   ]
  },
  {
   "cell_type": "code",
   "execution_count": 8,
   "metadata": {},
   "outputs": [
    {
     "data": {
      "text/plain": [
       "array([0, 0, 1, 0, 0, 0], dtype=uint8)"
      ]
     },
     "execution_count": 8,
     "metadata": {},
     "output_type": "execute_result"
    }
   ],
   "source": [
    "ex_label = train_data_label[0]\n",
    "ex_label"
   ]
  },
  {
   "cell_type": "code",
   "execution_count": 9,
   "metadata": {},
   "outputs": [
    {
     "data": {
      "text/plain": [
       "<torch._C.Generator at 0x7f6b572e71d0>"
      ]
     },
     "execution_count": 9,
     "metadata": {},
     "output_type": "execute_result"
    }
   ],
   "source": [
    "import torch\n",
    "import torch.nn as nn\n",
    "from torch.utils.data import Dataset, DataLoader\n",
    "from torchvision import transforms as T\n",
    "from tqdm import tqdm\n",
    "from sklearn.metrics import accuracy_score\n",
    "\n",
    "torch.manual_seed(4)"
   ]
  },
  {
   "cell_type": "code",
   "execution_count": 10,
   "metadata": {},
   "outputs": [],
   "source": [
    "class SatImgDataset(Dataset):\n",
    "    def __init__(self, X, y):\n",
    "        self.X = X\n",
    "        self.y = y\n",
    "        self.transform = T.ToTensor()\n",
    "    def __len__(self):\n",
    "        return len(self.y)\n",
    "    \n",
    "    def __getitem__(self, index):\n",
    "        x = self.transform(self.X[index])\n",
    "        y = torch.FloatTensor(self.y[index])\n",
    "        return {'x':x, 'y':y}"
   ]
  },
  {
   "cell_type": "code",
   "execution_count": 11,
   "metadata": {},
   "outputs": [],
   "source": [
    "train_data_reshaped = train_data.reshape(train_qtdy,28,28,4)\n",
    "test_data_reshaped = test_data.reshape(test_qtdy,28,28,4) \n",
    "\n",
    "final_train_data = np.zeros((train_qtdy, 32, 32, 4),dtype=np.float32)\n",
    "final_train_data[:, :28, :28, :] = train_data_reshaped;\n",
    "\n",
    "final_test_data = np.zeros((test_qtdy, 32, 32, 4),dtype=np.float32)\n",
    "final_test_data[:, :28, :28, :] = test_data_reshaped;"
   ]
  },
  {
   "cell_type": "code",
   "execution_count": 12,
   "metadata": {},
   "outputs": [],
   "source": [
    "dataset_train = SatImgDataset(final_train_data, train_dl)\n",
    "dataset_test = SatImgDataset(final_test_data, test_dl)\n",
    "\n",
    "loader_train = DataLoader(dataset_train, 512, shuffle=True)\n",
    "loader_test = DataLoader(dataset_test, 512, shuffle=False)"
   ]
  },
  {
   "cell_type": "code",
   "execution_count": 13,
   "metadata": {},
   "outputs": [],
   "source": [
    "# import torch\n",
    "# import torch.nn as nn\n",
    "# import torch.nn.functional as F\n",
    "\n",
    "# device = torch.device('cpu')\n",
    "# class SimpleCNN(nn.Module):\n",
    "#     def __init__(self):\n",
    "#         super(SimpleCNN, self).__init__()\n",
    "#         # Camada de convolução 1\n",
    "#         self.conv1 = nn.Conv2d(4, 20, kernel_size=3, stride=2, padding=1)\n",
    "#         # Camada de ativação ReLU 1\n",
    "#         self.relu1 = nn.ReLU()\n",
    "#         # Camada de convolução 2\n",
    "#         self.conv2 = nn.Conv2d(20, 8, kernel_size=1, stride=1)\n",
    "#         # Camada de ativação ReLU 2\n",
    "#         self.relu2 = nn.ReLU()\n",
    "#         # Camada de pooling global média\n",
    "#         self.global_pool = nn.AdaptiveAvgPool2d(1)\n",
    "\n",
    "#     def forward(self, x):\n",
    "#         # Passo através da primeira convolução e ativação\n",
    "#         x = self.conv1(x)\n",
    "#         x = self.relu1(x)\n",
    "#         # Passo através da segunda convolução e ativação\n",
    "#         x = self.conv2(x)\n",
    "#         x = self.relu2(x)\n",
    "#         # Pooling global médio\n",
    "#         x = self.global_pool(x)\n",
    "#         # Achatamento para a saída\n",
    "#         x = x.view(x.size(0), -1)\n",
    "#         return x\n",
    "\n",
    "# # Criar uma instância do modelo\n",
    "# model = SimpleCNN()\n",
    "\n",
    "# # Exibir a arquitetura do modelo\n",
    "# print(model)"
   ]
  },
  {
   "cell_type": "code",
   "execution_count": 52,
   "metadata": {},
   "outputs": [
    {
     "name": "stdout",
     "output_type": "stream",
     "text": [
      "SimpleCNN(\n",
      "  (conv1): Conv2d(4, 20, kernel_size=(3, 3), stride=(2, 2), padding=(1, 1))\n",
      "  (batch_norm1): BatchNorm2d(20, eps=1e-05, momentum=0.1, affine=True, track_running_stats=True)\n",
      "  (relu1): ReLU()\n",
      "  (conv2): Conv2d(20, 8, kernel_size=(1, 1), stride=(1, 1))\n",
      "  (batch_norm2): BatchNorm2d(8, eps=1e-05, momentum=0.1, affine=True, track_running_stats=True)\n",
      "  (relu2): ReLU()\n",
      "  (global_pool): AdaptiveAvgPool2d(output_size=1)\n",
      "  (softmax): Softmax(dim=1)\n",
      ")\n"
     ]
    }
   ],
   "source": [
    "import torch\n",
    "import torch.nn as nn\n",
    "import torch.nn.functional as F\n",
    "\n",
    "class SimpleCNN(nn.Module):\n",
    "    def __init__(self):\n",
    "        super(SimpleCNN, self).__init__()\n",
    "        # Camada de convolução 1\n",
    "        self.conv1 = nn.Conv2d(4, 20, kernel_size=3, stride=2, padding=1)\n",
    "        # Camada de Batch Normalization 1\n",
    "        self.batch_norm1 = nn.BatchNorm2d(20)\n",
    "        # Camada de ativação ReLU 1\n",
    "        self.relu1 = nn.ReLU()\n",
    "        # Camada de convolução 2\n",
    "        self.conv2 = nn.Conv2d(20, 8, kernel_size=1, stride=1)\n",
    "        # Camada de Batch Normalization 2\n",
    "        self.batch_norm2 = nn.BatchNorm2d(8)\n",
    "        # Camada de ativação ReLU 2\n",
    "        self.relu2 = nn.ReLU()\n",
    "        # Camada de pooling global média\n",
    "        self.global_pool = nn.AdaptiveAvgPool2d(1)\n",
    "        # Camada de Softmax\n",
    "        self.softmax = nn.Softmax(dim=1)\n",
    "\n",
    "    def forward(self, x):\n",
    "        # Passo através da primeira convolução, BatchNorm e ativação\n",
    "        x = self.conv1(x)\n",
    "        x = self.batch_norm1(x)\n",
    "        x = self.relu1(x)\n",
    "        # Passo através da segunda convolução, BatchNorm e ativação\n",
    "        x = self.conv2(x)\n",
    "        x = self.batch_norm2(x)\n",
    "        x = self.relu2(x)\n",
    "        # Pooling global médio\n",
    "        x = self.global_pool(x)\n",
    "        # Achatamento para a saída\n",
    "        x = x.view(x.size(0), -1)\n",
    "        # Camada de Softmax\n",
    "        x = self.softmax(x)\n",
    "        return x\n",
    "\n",
    "# Criar uma instância do modelo\n",
    "model = SimpleCNN()\n",
    "\n",
    "# Exibir a arquitetura do modelo\n",
    "print(model)"
   ]
  },
  {
   "cell_type": "code",
   "execution_count": 53,
   "metadata": {},
   "outputs": [
    {
     "name": "stderr",
     "output_type": "stream",
     "text": [
      "100%|█████████████████████████████████████████| 196/196 [00:13<00:00, 14.75it/s]\n",
      "100%|█████████████████████████████████████████| 196/196 [00:13<00:00, 14.34it/s]\n",
      "100%|█████████████████████████████████████████| 196/196 [00:17<00:00, 11.51it/s]\n",
      "100%|█████████████████████████████████████████| 196/196 [00:18<00:00, 10.56it/s]\n",
      "100%|█████████████████████████████████████████| 196/196 [00:17<00:00, 11.52it/s]\n",
      "100%|█████████████████████████████████████████| 196/196 [00:15<00:00, 12.43it/s]\n",
      "100%|█████████████████████████████████████████| 196/196 [00:15<00:00, 12.60it/s]\n",
      "100%|█████████████████████████████████████████| 196/196 [00:18<00:00, 10.38it/s]\n",
      "100%|█████████████████████████████████████████| 196/196 [00:16<00:00, 11.89it/s]\n",
      "100%|█████████████████████████████████████████| 196/196 [00:22<00:00,  8.77it/s]\n",
      "100%|█████████████████████████████████████████| 196/196 [00:19<00:00,  9.91it/s]\n",
      "100%|█████████████████████████████████████████| 196/196 [00:19<00:00, 10.04it/s]\n",
      "100%|█████████████████████████████████████████| 196/196 [00:20<00:00,  9.34it/s]\n",
      "100%|█████████████████████████████████████████| 196/196 [00:19<00:00, 10.06it/s]\n",
      "100%|█████████████████████████████████████████| 196/196 [00:18<00:00, 10.66it/s]\n",
      "100%|█████████████████████████████████████████| 196/196 [00:18<00:00, 10.68it/s]\n",
      "100%|█████████████████████████████████████████| 196/196 [00:17<00:00, 11.06it/s]\n",
      "100%|█████████████████████████████████████████| 196/196 [00:17<00:00, 10.97it/s]\n",
      "100%|█████████████████████████████████████████| 196/196 [00:12<00:00, 15.17it/s]\n",
      "100%|█████████████████████████████████████████| 196/196 [00:16<00:00, 11.70it/s]\n",
      "100%|█████████████████████████████████████████| 196/196 [00:18<00:00, 10.84it/s]\n",
      "100%|█████████████████████████████████████████| 196/196 [00:19<00:00,  9.90it/s]\n",
      "100%|█████████████████████████████████████████| 196/196 [00:19<00:00, 10.31it/s]\n",
      "100%|█████████████████████████████████████████| 196/196 [00:17<00:00, 10.95it/s]\n",
      "100%|█████████████████████████████████████████| 196/196 [00:17<00:00, 10.95it/s]\n",
      "100%|█████████████████████████████████████████| 196/196 [00:18<00:00, 10.61it/s]\n",
      "100%|█████████████████████████████████████████| 196/196 [00:18<00:00, 10.69it/s]\n",
      "100%|█████████████████████████████████████████| 196/196 [00:18<00:00, 10.76it/s]\n",
      "100%|█████████████████████████████████████████| 196/196 [00:17<00:00, 10.96it/s]\n",
      "100%|█████████████████████████████████████████| 196/196 [00:19<00:00, 10.17it/s]\n"
     ]
    }
   ],
   "source": [
    "device = torch.device('cpu')\n",
    "optimizer = torch.optim.Adam(model.parameters(), lr=1e-4)\n",
    "epochs = 30\n",
    "criterion = nn.BCELoss()\n",
    "model.train()\n",
    "for e in range(epochs):\n",
    "    for batch in tqdm(loader_train):\n",
    "        pred = model(batch['x'].to(device))\n",
    "        loss = criterion( pred, batch['y'].to(device))\n",
    "        optimizer.zero_grad()\n",
    "        loss.backward()\n",
    "        optimizer.step()"
   ]
  },
  {
   "cell_type": "code",
   "execution_count": 54,
   "metadata": {},
   "outputs": [],
   "source": [
    "def fast_gradient_sign_method(model, imgs, labels, attack_params):\n",
    "    # Determine prediction of the model\n",
    "    inp_imgs = imgs.clone().requires_grad_()\n",
    "    preds = model(inp_imgs.to(device))\n",
    "    pred_logprob = torch.log(preds)\n",
    "    #print(labels.dtype)\n",
    "    # Calculate loss by NLL\n",
    "    loss = nn.CrossEntropyLoss()(preds, labels.to(device))\n",
    "    loss.backward()\n",
    "    # Update image to adversarial example as written above\n",
    "    noise_grad = torch.sign(inp_imgs.grad.to(imgs.device))\n",
    "    fake_imgs = imgs + attack_params['epsilon'] * noise_grad\n",
    "    fake_imgs.detach_()\n",
    "    return fake_imgs, noise_grad"
   ]
  },
  {
   "cell_type": "code",
   "execution_count": 55,
   "metadata": {},
   "outputs": [],
   "source": [
    "def eval_model(model, dataloader, fake_generator=None, attack_params=None):\n",
    "    y_pred = []\n",
    "    y_true = []\n",
    "    \n",
    "    for i, batch in enumerate(dataloader):\n",
    "        if fake_generator is not None:\n",
    "            fake_imgs, _ = fake_generator(model, batch['x'],batch['y'], attack_params)\n",
    "            with torch.no_grad():\n",
    "                pred = model(fake_imgs.to(device))\n",
    "        else:\n",
    "            with torch.no_grad():\n",
    "                pred = model(batch['x'].to(device))\n",
    "        y_pred.append(pred.argmax(dim=1).cpu().numpy())\n",
    "        y_true.append(batch['y'].argmax(dim=1).numpy())\n",
    "    y_pred = np.concatenate(y_pred)\n",
    "    y_true = np.concatenate(y_true)\n",
    "    return accuracy_score(y_true, y_pred)"
   ]
  },
  {
   "cell_type": "code",
   "execution_count": 56,
   "metadata": {},
   "outputs": [],
   "source": [
    "eps = np.logspace(-2, 0, 10)\n",
    "acc_attack = [eval_model(model, loader_test, fast_gradient_sign_method, {'epsilon': e}) for e in eps]"
   ]
  },
  {
   "cell_type": "code",
   "execution_count": 57,
   "metadata": {},
   "outputs": [
    {
     "data": {
      "image/png": "[encoded data removed]",
      "text/plain": [
       "<Figure size 640x480 with 1 Axes>"
      ]
     },
     "metadata": {},
     "output_type": "display_data"
    }
   ],
   "source": [
    "plt.figure()\n",
    "plt.plot(eps, acc_attack)\n",
    "plt.xscale('log')\n",
    "plt.ylabel(\"accuracy\")\n",
    "plt.xlabel('epsilon')\n",
    "plt.show()"
   ]
  },
  {
   "cell_type": "code",
   "execution_count": 58,
   "metadata": {},
   "outputs": [],
   "source": [
    "def predict_one_image(model, img_data, y):\n",
    "    with torch.no_grad():\n",
    "        pred = model(T.ToTensor()(img_data).unsqueeze(0).to(device))\n",
    "    true_label = y.argmax()\n",
    "    pred_label = pred[0].argmax()\n",
    "    print(pred)\n",
    "    plt.imshow(img_data.astype(int))\n",
    "    print(\"True class: {}, predicted class: {}\".format(true_label, pred_label))"
   ]
  },
  {
   "cell_type": "code",
   "execution_count": 59,
   "metadata": {},
   "outputs": [
    {
     "name": "stdout",
     "output_type": "stream",
     "text": [
      "tensor([[0.1028, 0.1741, 0.1761, 0.1696, 0.0874, 0.1521, 0.0691, 0.0689]])\n",
      "True class: 2, predicted class: 2\n"
     ]
    },
    {
     "data": {
      "image/png": "[encoded data removed]",
      "text/plain": [
       "<Figure size 640x480 with 1 Axes>"
      ]
     },
     "metadata": {},
     "output_type": "display_data"
    }
   ],
   "source": [
    "attack_params = {'epsilon':0.02}\n",
    "\n",
    "image_index = 300\n",
    "\n",
    "img_data = test_data[image_index].reshape((28,28,4))\n",
    "\n",
    "ex_img = np.zeros((32, 32, 4),dtype=np.float32)\n",
    "ex_img[:28, :28, :] = img_data\n",
    "\n",
    "labels = torch.FloatTensor(test_data_label[image_index]).unsqueeze(0)\n",
    "predict_one_image(model, ex_img, labels)"
   ]
  },
  {
   "cell_type": "code",
   "execution_count": 60,
   "metadata": {},
   "outputs": [
    {
     "name": "stdout",
     "output_type": "stream",
     "text": [
      "tensor([2, 2, 5, 1, 5, 2, 5, 1, 5, 5, 5, 2, 2, 5, 2, 3, 1, 5, 0, 0, 3, 3, 1, 5,\n",
      "        1, 0, 5, 1, 3, 1, 5, 5, 5, 5, 0, 1, 5, 3, 3, 2, 2, 5, 2, 3, 2, 5, 4, 2,\n",
      "        5, 1, 2, 1, 2, 3, 2, 2, 2, 3, 5, 5, 1, 5, 3, 5, 4, 2, 1, 1, 5, 5, 2, 3,\n",
      "        5, 5, 1, 1, 5, 5, 3, 5, 5, 2, 5, 1, 3, 1, 2, 5, 3, 2, 2, 1, 3, 2, 2, 2,\n",
      "        1, 1, 4, 3, 5, 5, 0, 5, 1, 2, 0, 1, 5, 3, 5, 1, 1, 5, 1, 1, 5, 1, 1, 3,\n",
      "        3, 5, 3, 1, 5, 5, 2, 1, 2, 5, 2, 3, 5, 2, 3, 1, 2, 5, 5, 2, 3, 1, 1, 2,\n",
      "        5, 2, 2, 2, 2, 1, 1, 5, 0, 1, 1, 1, 2, 1, 2, 5, 5, 1, 5, 5, 1, 5, 1, 2,\n",
      "        5, 3, 5, 0, 2, 2, 1, 5, 5, 1, 5, 1, 5, 1, 1, 5, 2, 1, 3, 0, 5, 5, 5, 2,\n",
      "        5, 3, 2, 2, 3, 1, 1, 5, 1, 3, 1, 2, 1, 1, 5, 3, 1, 5, 5, 1, 1, 1, 1, 3,\n",
      "        3, 5, 5, 1, 3, 2, 2, 1, 2, 1, 1, 1, 3, 2, 5, 2, 1, 3, 2, 5, 1, 3, 3, 3,\n",
      "        5, 0, 5, 1, 5, 1, 5, 2, 1, 1, 5, 5, 5, 2, 2, 1, 5, 5, 5, 5, 5, 3, 5, 5,\n",
      "        5, 5, 3, 3, 2, 2, 2, 5, 5, 2, 1, 5, 2, 5, 1, 1, 2, 5, 5, 3, 2, 2, 4, 5,\n",
      "        2, 3, 3, 3, 1, 5, 1, 5, 1, 0, 5, 5, 2, 1, 1, 5, 5, 2, 5, 1, 3, 2, 5, 5,\n",
      "        1, 5, 2, 4, 5, 1, 1, 5, 2, 3, 3, 1, 2, 0, 5, 2, 5, 2, 4, 5, 5, 1, 5, 3,\n",
      "        1, 5, 5, 3, 1, 1, 0, 1, 4, 5, 3, 5, 5, 2, 5, 2, 5, 5, 5, 5, 2, 2, 2, 4,\n",
      "        3, 1, 1, 2, 2, 0, 2, 5, 5, 1, 5, 5, 5, 2, 5, 2, 5, 1, 2, 5, 3, 1, 2, 5,\n",
      "        5, 5, 1, 0, 1, 5, 5, 5, 2, 5, 3, 3, 5, 1, 5, 5, 0, 1, 4, 4, 1, 5, 5, 5,\n",
      "        1, 5, 5, 5, 5, 1, 2, 1, 3, 1, 5, 1, 5, 5, 5, 5, 1, 1, 5, 5, 5, 0, 3, 5,\n",
      "        2, 5, 5, 5, 5, 2, 5, 5, 5, 3, 1, 5, 5, 5, 5, 2, 2, 2, 5, 3, 2, 5, 3, 0,\n",
      "        1, 5, 5, 1, 2, 2, 1, 2, 5, 2, 1, 2, 5, 1, 0, 2, 5, 2, 0, 5, 2, 3, 5, 1,\n",
      "        3, 5, 1, 2, 5, 1, 0, 4, 1, 5, 1, 2, 3, 2, 2, 1, 3, 1, 5, 2, 1, 5, 1, 1,\n",
      "        1, 5, 5, 3, 3, 3, 5, 5])\n",
      "tensor([2, 2, 5, 1, 5, 2, 5, 1, 5, 5, 5, 2, 2, 5, 2, 3, 1, 5, 0, 0, 3, 3, 1, 5,\n",
      "        1, 0, 5, 1, 3, 1, 5, 5, 5, 5, 0, 1, 5, 1, 3, 2, 2, 5, 2, 3, 2, 5, 4, 2,\n",
      "        5, 1, 2, 1, 2, 3, 2, 2, 2, 3, 5, 5, 1, 5, 3, 5, 4, 2, 1, 1, 5, 5, 2, 3,\n",
      "        5, 5, 1, 1, 5, 5, 3, 5, 5, 2, 5, 1, 1, 3, 2, 5, 3, 2, 2, 1, 1, 2, 2, 2,\n",
      "        1, 1, 4, 3, 5, 5, 0, 5, 1, 3, 0, 1, 5, 3, 5, 1, 1, 5, 3, 1, 5, 1, 1, 2,\n",
      "        3, 5, 3, 1, 5, 5, 2, 1, 2, 5, 2, 3, 5, 2, 3, 1, 2, 5, 5, 2, 3, 1, 1, 2,\n",
      "        5, 2, 2, 2, 2, 1, 1, 5, 4, 1, 1, 1, 2, 1, 2, 5, 5, 1, 5, 5, 3, 5, 1, 2,\n",
      "        5, 3, 5, 0, 2, 2, 1, 5, 5, 1, 5, 1, 5, 1, 1, 5, 2, 1, 3, 0, 5, 5, 5, 2,\n",
      "        5, 3, 2, 2, 3, 1, 1, 5, 3, 3, 1, 2, 1, 1, 5, 3, 1, 5, 5, 1, 1, 1, 1, 3,\n",
      "        3, 5, 5, 1, 3, 2, 2, 1, 2, 3, 1, 1, 3, 2, 5, 2, 1, 3, 2, 5, 1, 3, 3, 3,\n",
      "        5, 0, 5, 1, 5, 1, 5, 2, 1, 1, 5, 5, 5, 2, 2, 1, 5, 5, 5, 5, 5, 3, 5, 5,\n",
      "        5, 5, 3, 3, 2, 2, 2, 5, 5, 2, 1, 5, 2, 5, 1, 1, 2, 5, 5, 1, 2, 3, 4, 5,\n",
      "        3, 3, 3, 3, 1, 5, 1, 5, 1, 0, 5, 5, 2, 1, 1, 5, 5, 2, 5, 1, 3, 2, 5, 5,\n",
      "        1, 5, 3, 4, 5, 1, 1, 5, 2, 3, 3, 1, 2, 4, 5, 2, 5, 2, 4, 4, 5, 1, 5, 3,\n",
      "        1, 5, 5, 3, 1, 1, 0, 1, 4, 5, 3, 5, 5, 2, 5, 2, 5, 5, 5, 5, 2, 2, 2, 3,\n",
      "        3, 1, 1, 2, 2, 0, 2, 5, 5, 1, 5, 5, 5, 2, 5, 2, 5, 1, 2, 5, 3, 1, 2, 5,\n",
      "        5, 5, 1, 0, 1, 5, 5, 5, 2, 5, 3, 3, 5, 1, 5, 5, 0, 1, 4, 0, 3, 5, 5, 5,\n",
      "        1, 5, 5, 5, 5, 3, 2, 1, 1, 1, 5, 3, 5, 5, 5, 5, 1, 1, 5, 5, 5, 0, 3, 5,\n",
      "        3, 5, 5, 5, 5, 2, 5, 5, 5, 3, 1, 5, 5, 5, 5, 2, 2, 2, 5, 3, 2, 5, 3, 0,\n",
      "        1, 5, 5, 1, 2, 3, 1, 2, 5, 2, 1, 2, 5, 1, 4, 3, 5, 2, 0, 5, 2, 3, 5, 1,\n",
      "        3, 5, 1, 2, 5, 1, 0, 4, 1, 5, 1, 2, 3, 2, 2, 1, 3, 1, 5, 2, 1, 5, 1, 1,\n",
      "        1, 5, 5, 3, 3, 3, 5, 5])\n",
      "certos: 47663!!!\n",
      "precisão: 95.326%!!!\n"
     ]
    }
   ],
   "source": [
    "with torch.no_grad():\n",
    "    correct = 0\n",
    "    i=0\n",
    "    for batch in loader_test:\n",
    "        pred = model(batch['x'].to(device))\n",
    "        predicted = torch.max(pred, 1)[1]\n",
    "        real_class = torch.max(batch['y'].to(device), 1)[1]\n",
    "        correct += (predicted == real_class).sum()\n",
    "        if (i % 100 == 0):\n",
    "            print(predicted)\n",
    "            print(real_class)\n",
    "        i += 1\n",
    "\n",
    "print(f\"certos: {correct.item()}!!!\")\n",
    "print(f\"precisão: {correct.item()/len(dataset_test)*100}%!!!\")\n"
   ]
  },
  {
   "cell_type": "code",
   "execution_count": 61,
   "metadata": {},
   "outputs": [],
   "source": [
    "#salvar e carregar o modelo de NN\n",
    "torch.save(model.state_dict(), \"cnn-sat6-w32.pt\")"
   ]
  },
  {
   "cell_type": "code",
   "execution_count": 62,
   "metadata": {},
   "outputs": [
    {
     "name": "stdout",
     "output_type": "stream",
     "text": [
      "tensor([[0.1028, 0.1741, 0.1761, 0.1696, 0.0874, 0.1521, 0.0691, 0.0689]])\n",
      "True class: 2, predicted class: 2\n"
     ]
    },
    {
     "data": {
      "image/png": "[encoded data removed]",
      "text/plain": [
       "<Figure size 640x480 with 1 Axes>"
      ]
     },
     "metadata": {},
     "output_type": "display_data"
    }
   ],
   "source": [
    "new_model = SimpleCNN()\n",
    "new_model.load_state_dict(torch.load(\"cnn-sat6-w32.pt\"))\n",
    "predict_one_image(new_model, ex_img, labels)"
   ]
  },
  {
   "cell_type": "code",
   "execution_count": null,
   "metadata": {},
   "outputs": [],
   "source": []
  }
 ],
 "metadata": {
  "kernelspec": {
   "display_name": "Python 3 (ipykernel)",
   "language": "python",
   "name": "python3"
  },
  "language_info": {
   "codemirror_mode": {
    "name": "ipython",
    "version": 3
   },
   "file_extension": ".py",
   "mimetype": "text/x-python",
   "name": "python",
   "nbconvert_exporter": "python",
   "pygments_lexer": "ipython3",
   "version": "3.10.12"
  }
 },
 "nbformat": 4,
 "nbformat_minor": 4
}
